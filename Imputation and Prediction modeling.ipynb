{
  "cells": [
    {
      "metadata": {
        "_uuid": "8f2839f25d086af736a60e9eeb907d3b93b6e0e5",
        "collapsed": true,
        "_cell_guid": "b1076dfc-b9ad-4769-8c92-a6c4dae69d19",
        "trusted": true
      },
      "cell_type": "code",
      "source": "import os\nimport pandas as pd\nimport glob\nimport numpy as np\nimport matplotlib.pyplot as plt\n%matplotlib inline\nimport seaborn as sn\nimport dask.dataframe as dd",
      "execution_count": 1,
      "outputs": []
    },
    {
      "metadata": {
        "_uuid": "d629ff2d2480ee46fbb7e2d37f6b5fab8052498a",
        "_cell_guid": "79c7e3d0-c299-4dcb-8224-4455121ee9b0",
        "trusted": true
      },
      "cell_type": "code",
      "source": "df = pd.read_csv(\"../input/harddrive.csv\")\ndf.head()",
      "execution_count": 2,
      "outputs": [
        {
          "output_type": "execute_result",
          "execution_count": 2,
          "data": {
            "text/plain": "         date    serial_number                    model  capacity_bytes  \\\n0  2016-01-01   MJ0351YNG9Z0XA  Hitachi HDS5C3030ALA630   1.482490e-311   \n1  2016-01-01         Z305B2QN              ST4000DM000   1.976651e-311   \n2  2016-01-01   MJ0351YNG9Z7LA  Hitachi HDS5C3030ALA630   1.482490e-311   \n3  2016-01-01   MJ0351YNGABYAA  Hitachi HDS5C3030ALA630   1.482490e-311   \n4  2016-01-01  WD-WMC4N2899475             WDC WD30EFRX   1.482490e-311   \n\n   failure  smart_1_normalized  smart_1_raw  smart_2_normalized  smart_2_raw  \\\n0        0                 100            0               135.0        108.0   \n1        0                 113     54551400                 NaN          NaN   \n2        0                 100            0               136.0        104.0   \n3        0                 100            0               136.0        104.0   \n4        0                 200            0                 NaN          NaN   \n\n   smart_3_normalized      ...        smart_250_normalized  smart_250_raw  \\\n0                 143      ...                         NaN            NaN   \n1                  96      ...                         NaN            NaN   \n2                 124      ...                         NaN            NaN   \n3                 137      ...                         NaN            NaN   \n4                 175      ...                         NaN            NaN   \n\n   smart_251_normalized  smart_251_raw  smart_252_normalized  smart_252_raw  \\\n0                   NaN            NaN                   NaN            NaN   \n1                   NaN            NaN                   NaN            NaN   \n2                   NaN            NaN                   NaN            NaN   \n3                   NaN            NaN                   NaN            NaN   \n4                   NaN            NaN                   NaN            NaN   \n\n   smart_254_normalized  smart_254_raw  smart_255_normalized  smart_255_raw  \n0                   NaN            NaN                   NaN            NaN  \n1                   NaN            NaN                   NaN            NaN  \n2                   NaN            NaN                   NaN            NaN  \n3                   NaN            NaN                   NaN            NaN  \n4                   NaN            NaN                   NaN            NaN  \n\n[5 rows x 95 columns]",
            "text/html": "<div>\n<style scoped>\n    .dataframe tbody tr th:only-of-type {\n        vertical-align: middle;\n    }\n\n    .dataframe tbody tr th {\n        vertical-align: top;\n    }\n\n    .dataframe thead th {\n        text-align: right;\n    }\n</style>\n<table border=\"1\" class=\"dataframe\">\n  <thead>\n    <tr style=\"text-align: right;\">\n      <th></th>\n      <th>date</th>\n      <th>serial_number</th>\n      <th>model</th>\n      <th>capacity_bytes</th>\n      <th>failure</th>\n      <th>smart_1_normalized</th>\n      <th>smart_1_raw</th>\n      <th>smart_2_normalized</th>\n      <th>smart_2_raw</th>\n      <th>smart_3_normalized</th>\n      <th>...</th>\n      <th>smart_250_normalized</th>\n      <th>smart_250_raw</th>\n      <th>smart_251_normalized</th>\n      <th>smart_251_raw</th>\n      <th>smart_252_normalized</th>\n      <th>smart_252_raw</th>\n      <th>smart_254_normalized</th>\n      <th>smart_254_raw</th>\n      <th>smart_255_normalized</th>\n      <th>smart_255_raw</th>\n    </tr>\n  </thead>\n  <tbody>\n    <tr>\n      <th>0</th>\n      <td>2016-01-01</td>\n      <td>MJ0351YNG9Z0XA</td>\n      <td>Hitachi HDS5C3030ALA630</td>\n      <td>1.482490e-311</td>\n      <td>0</td>\n      <td>100</td>\n      <td>0</td>\n      <td>135.0</td>\n      <td>108.0</td>\n      <td>143</td>\n      <td>...</td>\n      <td>NaN</td>\n      <td>NaN</td>\n      <td>NaN</td>\n      <td>NaN</td>\n      <td>NaN</td>\n      <td>NaN</td>\n      <td>NaN</td>\n      <td>NaN</td>\n      <td>NaN</td>\n      <td>NaN</td>\n    </tr>\n    <tr>\n      <th>1</th>\n      <td>2016-01-01</td>\n      <td>Z305B2QN</td>\n      <td>ST4000DM000</td>\n      <td>1.976651e-311</td>\n      <td>0</td>\n      <td>113</td>\n      <td>54551400</td>\n      <td>NaN</td>\n      <td>NaN</td>\n      <td>96</td>\n      <td>...</td>\n      <td>NaN</td>\n      <td>NaN</td>\n      <td>NaN</td>\n      <td>NaN</td>\n      <td>NaN</td>\n      <td>NaN</td>\n      <td>NaN</td>\n      <td>NaN</td>\n      <td>NaN</td>\n      <td>NaN</td>\n    </tr>\n    <tr>\n      <th>2</th>\n      <td>2016-01-01</td>\n      <td>MJ0351YNG9Z7LA</td>\n      <td>Hitachi HDS5C3030ALA630</td>\n      <td>1.482490e-311</td>\n      <td>0</td>\n      <td>100</td>\n      <td>0</td>\n      <td>136.0</td>\n      <td>104.0</td>\n      <td>124</td>\n      <td>...</td>\n      <td>NaN</td>\n      <td>NaN</td>\n      <td>NaN</td>\n      <td>NaN</td>\n      <td>NaN</td>\n      <td>NaN</td>\n      <td>NaN</td>\n      <td>NaN</td>\n      <td>NaN</td>\n      <td>NaN</td>\n    </tr>\n    <tr>\n      <th>3</th>\n      <td>2016-01-01</td>\n      <td>MJ0351YNGABYAA</td>\n      <td>Hitachi HDS5C3030ALA630</td>\n      <td>1.482490e-311</td>\n      <td>0</td>\n      <td>100</td>\n      <td>0</td>\n      <td>136.0</td>\n      <td>104.0</td>\n      <td>137</td>\n      <td>...</td>\n      <td>NaN</td>\n      <td>NaN</td>\n      <td>NaN</td>\n      <td>NaN</td>\n      <td>NaN</td>\n      <td>NaN</td>\n      <td>NaN</td>\n      <td>NaN</td>\n      <td>NaN</td>\n      <td>NaN</td>\n    </tr>\n    <tr>\n      <th>4</th>\n      <td>2016-01-01</td>\n      <td>WD-WMC4N2899475</td>\n      <td>WDC WD30EFRX</td>\n      <td>1.482490e-311</td>\n      <td>0</td>\n      <td>200</td>\n      <td>0</td>\n      <td>NaN</td>\n      <td>NaN</td>\n      <td>175</td>\n      <td>...</td>\n      <td>NaN</td>\n      <td>NaN</td>\n      <td>NaN</td>\n      <td>NaN</td>\n      <td>NaN</td>\n      <td>NaN</td>\n      <td>NaN</td>\n      <td>NaN</td>\n      <td>NaN</td>\n      <td>NaN</td>\n    </tr>\n  </tbody>\n</table>\n<p>5 rows × 95 columns</p>\n</div>"
          },
          "metadata": {}
        }
      ]
    },
    {
      "metadata": {
        "_uuid": "8773a54780bd21af45f8593dc323ee56307ebc2a",
        "_cell_guid": "c0f4ee7a-b458-4ce2-9afb-2f0f2588aa05",
        "trusted": true
      },
      "cell_type": "code",
      "source": "df.shape",
      "execution_count": 3,
      "outputs": [
        {
          "output_type": "execute_result",
          "execution_count": 3,
          "data": {
            "text/plain": "(3179295, 95)"
          },
          "metadata": {}
        }
      ]
    },
    {
      "metadata": {
        "_uuid": "144479de07a72d24819b81a9242b86a248cadd72",
        "collapsed": true,
        "_cell_guid": "b060682b-f0e0-4d36-979f-b28571121772",
        "trusted": true
      },
      "cell_type": "code",
      "source": "df = df[[\"date\", \"serial_number\", \"model\", \"failure\", \"capacity_bytes\",\n                  \"smart_2_normalized\",# \"smart_2_raw\",\n                 \"smart_5_normalized\", #\"smart_5_raw\",\n                 \"smart_9_normalized\", #\"smart_9_raw\",\n                 \"smart_187_normalized\",# \"smart_187_raw\",\n                 \"smart_188_normalized\",# \"smart_188_raw\",\n                 \"smart_192_normalized\",# \"smart_192_raw\",\n                 \"smart_194_normalized\",# \"smart_194_raw\",\n                 \"smart_197_normalized\",# \"smart_197_raw\",\n                 \"smart_198_normalized\",]]# \"smart_198_raw\",]]",
      "execution_count": 4,
      "outputs": []
    },
    {
      "metadata": {
        "_uuid": "a4b698b514e56f95bd126b659b9008c04835e402",
        "_cell_guid": "e198e833-a5f9-46a1-9536-4b082173ad21",
        "trusted": true
      },
      "cell_type": "code",
      "source": "df.isnull().sum()",
      "execution_count": 5,
      "outputs": [
        {
          "output_type": "execute_result",
          "execution_count": 5,
          "data": {
            "text/plain": "date                          0\nserial_number                 0\nmodel                         0\nfailure                       0\ncapacity_bytes                0\nsmart_2_normalized      1920177\nsmart_5_normalized            0\nsmart_9_normalized            0\nsmart_187_normalized    1372779\nsmart_188_normalized    1372779\nsmart_192_normalized       9581\nsmart_194_normalized         52\nsmart_197_normalized          0\nsmart_198_normalized          0\ndtype: int64"
          },
          "metadata": {}
        }
      ]
    },
    {
      "metadata": {
        "_uuid": "344bcba4765d5c68ab922a32ccc889800b0d896a",
        "_cell_guid": "66f6c934-8b5e-4aee-b569-140f121ca698",
        "trusted": true
      },
      "cell_type": "code",
      "source": "df['capacity_bytes'] = df['capacity_bytes']/(1024*4)\ndf.head()",
      "execution_count": 6,
      "outputs": [
        {
          "output_type": "execute_result",
          "execution_count": 6,
          "data": {
            "text/plain": "         date    serial_number                    model  failure  \\\n0  2016-01-01   MJ0351YNG9Z0XA  Hitachi HDS5C3030ALA630        0   \n1  2016-01-01         Z305B2QN              ST4000DM000        0   \n2  2016-01-01   MJ0351YNG9Z7LA  Hitachi HDS5C3030ALA630        0   \n3  2016-01-01   MJ0351YNGABYAA  Hitachi HDS5C3030ALA630        0   \n4  2016-01-01  WD-WMC4N2899475             WDC WD30EFRX        0   \n\n   capacity_bytes  smart_2_normalized  smart_5_normalized  smart_9_normalized  \\\n0   3.619360e-315               135.0                 100                  97   \n1   4.825809e-315                 NaN                 100                 100   \n2   3.619360e-315               136.0                 100                  97   \n3   3.619360e-315               136.0                 100                  97   \n4   3.619360e-315                 NaN                 200                  84   \n\n   smart_187_normalized  smart_188_normalized  smart_192_normalized  \\\n0                   NaN                   NaN                 100.0   \n1                 100.0                 100.0                 100.0   \n2                   NaN                   NaN                 100.0   \n3                   NaN                   NaN                 100.0   \n4                   NaN                   NaN                 200.0   \n\n   smart_194_normalized  smart_197_normalized  smart_198_normalized  \n0                 253.0                   100                   100  \n1                  30.0                   100                   100  \n2                 250.0                   100                   100  \n3                 193.0                   100                   100  \n4                 121.0                   200                   100  ",
            "text/html": "<div>\n<style scoped>\n    .dataframe tbody tr th:only-of-type {\n        vertical-align: middle;\n    }\n\n    .dataframe tbody tr th {\n        vertical-align: top;\n    }\n\n    .dataframe thead th {\n        text-align: right;\n    }\n</style>\n<table border=\"1\" class=\"dataframe\">\n  <thead>\n    <tr style=\"text-align: right;\">\n      <th></th>\n      <th>date</th>\n      <th>serial_number</th>\n      <th>model</th>\n      <th>failure</th>\n      <th>capacity_bytes</th>\n      <th>smart_2_normalized</th>\n      <th>smart_5_normalized</th>\n      <th>smart_9_normalized</th>\n      <th>smart_187_normalized</th>\n      <th>smart_188_normalized</th>\n      <th>smart_192_normalized</th>\n      <th>smart_194_normalized</th>\n      <th>smart_197_normalized</th>\n      <th>smart_198_normalized</th>\n    </tr>\n  </thead>\n  <tbody>\n    <tr>\n      <th>0</th>\n      <td>2016-01-01</td>\n      <td>MJ0351YNG9Z0XA</td>\n      <td>Hitachi HDS5C3030ALA630</td>\n      <td>0</td>\n      <td>3.619360e-315</td>\n      <td>135.0</td>\n      <td>100</td>\n      <td>97</td>\n      <td>NaN</td>\n      <td>NaN</td>\n      <td>100.0</td>\n      <td>253.0</td>\n      <td>100</td>\n      <td>100</td>\n    </tr>\n    <tr>\n      <th>1</th>\n      <td>2016-01-01</td>\n      <td>Z305B2QN</td>\n      <td>ST4000DM000</td>\n      <td>0</td>\n      <td>4.825809e-315</td>\n      <td>NaN</td>\n      <td>100</td>\n      <td>100</td>\n      <td>100.0</td>\n      <td>100.0</td>\n      <td>100.0</td>\n      <td>30.0</td>\n      <td>100</td>\n      <td>100</td>\n    </tr>\n    <tr>\n      <th>2</th>\n      <td>2016-01-01</td>\n      <td>MJ0351YNG9Z7LA</td>\n      <td>Hitachi HDS5C3030ALA630</td>\n      <td>0</td>\n      <td>3.619360e-315</td>\n      <td>136.0</td>\n      <td>100</td>\n      <td>97</td>\n      <td>NaN</td>\n      <td>NaN</td>\n      <td>100.0</td>\n      <td>250.0</td>\n      <td>100</td>\n      <td>100</td>\n    </tr>\n    <tr>\n      <th>3</th>\n      <td>2016-01-01</td>\n      <td>MJ0351YNGABYAA</td>\n      <td>Hitachi HDS5C3030ALA630</td>\n      <td>0</td>\n      <td>3.619360e-315</td>\n      <td>136.0</td>\n      <td>100</td>\n      <td>97</td>\n      <td>NaN</td>\n      <td>NaN</td>\n      <td>100.0</td>\n      <td>193.0</td>\n      <td>100</td>\n      <td>100</td>\n    </tr>\n    <tr>\n      <th>4</th>\n      <td>2016-01-01</td>\n      <td>WD-WMC4N2899475</td>\n      <td>WDC WD30EFRX</td>\n      <td>0</td>\n      <td>3.619360e-315</td>\n      <td>NaN</td>\n      <td>200</td>\n      <td>84</td>\n      <td>NaN</td>\n      <td>NaN</td>\n      <td>200.0</td>\n      <td>121.0</td>\n      <td>200</td>\n      <td>100</td>\n    </tr>\n  </tbody>\n</table>\n</div>"
          },
          "metadata": {}
        }
      ]
    },
    {
      "metadata": {
        "_uuid": "42fc8e023531d0ac5cbcbc7eebb299d961e0c26c",
        "_cell_guid": "4fe7d0e6-29e1-4e38-aae7-cc28514fa2a8",
        "trusted": true
      },
      "cell_type": "code",
      "source": "df['Brands'] = \" \"\ndf['Brands'][((df['model'].str.contains(\"ST\")==True) & (df['model'].str.contains(\"HGST\")==False))] = \"Seagate\"\ndf['Brands'][df['model'].str.contains(\"HGST\")] = \"HGST\"\ndf['Brands'][df['model'].str.contains(\"Hitachi\")] = \"Hitachi\"\ndf['Brands'][df['model'].str.contains(\"Toshiba\" or \"TOSHIBA\")] = \"Toshiba\"\ndf['Brands'][df['model'].str.contains(\"WDC\")] = \"Western Digital\"\ndf['Brands'][df['model'].str.contains(\"SAMSUNG\")] = \"Samsung\"",
      "execution_count": 7,
      "outputs": [
        {
          "output_type": "stream",
          "text": "/opt/conda/lib/python3.6/site-packages/ipykernel_launcher.py:2: SettingWithCopyWarning: \nA value is trying to be set on a copy of a slice from a DataFrame\n\nSee the caveats in the documentation: http://pandas.pydata.org/pandas-docs/stable/indexing.html#indexing-view-versus-copy\n  \n/opt/conda/lib/python3.6/site-packages/ipykernel_launcher.py:3: SettingWithCopyWarning: \nA value is trying to be set on a copy of a slice from a DataFrame\n\nSee the caveats in the documentation: http://pandas.pydata.org/pandas-docs/stable/indexing.html#indexing-view-versus-copy\n  This is separate from the ipykernel package so we can avoid doing imports until\n/opt/conda/lib/python3.6/site-packages/ipykernel_launcher.py:4: SettingWithCopyWarning: \nA value is trying to be set on a copy of a slice from a DataFrame\n\nSee the caveats in the documentation: http://pandas.pydata.org/pandas-docs/stable/indexing.html#indexing-view-versus-copy\n  after removing the cwd from sys.path.\n/opt/conda/lib/python3.6/site-packages/ipykernel_launcher.py:5: SettingWithCopyWarning: \nA value is trying to be set on a copy of a slice from a DataFrame\n\nSee the caveats in the documentation: http://pandas.pydata.org/pandas-docs/stable/indexing.html#indexing-view-versus-copy\n  \"\"\"\n/opt/conda/lib/python3.6/site-packages/ipykernel_launcher.py:6: SettingWithCopyWarning: \nA value is trying to be set on a copy of a slice from a DataFrame\n\nSee the caveats in the documentation: http://pandas.pydata.org/pandas-docs/stable/indexing.html#indexing-view-versus-copy\n  \n/opt/conda/lib/python3.6/site-packages/ipykernel_launcher.py:7: SettingWithCopyWarning: \nA value is trying to be set on a copy of a slice from a DataFrame\n\nSee the caveats in the documentation: http://pandas.pydata.org/pandas-docs/stable/indexing.html#indexing-view-versus-copy\n  import sys\n",
          "name": "stderr"
        }
      ]
    },
    {
      "metadata": {
        "_uuid": "869fb464589ce786d49bbc0c86aa846b7b60e8d1",
        "_cell_guid": "4223941e-1138-4710-96f3-848474462a3a",
        "trusted": true
      },
      "cell_type": "code",
      "source": "df['Brands'][df['Brands'] == \" \"] = \"Toshiba\"",
      "execution_count": 8,
      "outputs": [
        {
          "output_type": "stream",
          "text": "/opt/conda/lib/python3.6/site-packages/ipykernel_launcher.py:1: SettingWithCopyWarning: \nA value is trying to be set on a copy of a slice from a DataFrame\n\nSee the caveats in the documentation: http://pandas.pydata.org/pandas-docs/stable/indexing.html#indexing-view-versus-copy\n  \"\"\"Entry point for launching an IPython kernel.\n",
          "name": "stderr"
        }
      ]
    },
    {
      "metadata": {
        "_uuid": "88df8151cac08a11fe24b3fc3c482a274bd1241a",
        "_cell_guid": "fc291e92-a856-4a1c-8f78-0751ad444cbe",
        "trusted": true
      },
      "cell_type": "code",
      "source": "df.head()",
      "execution_count": 9,
      "outputs": [
        {
          "output_type": "execute_result",
          "execution_count": 9,
          "data": {
            "text/plain": "         date    serial_number                    model  failure  \\\n0  2016-01-01   MJ0351YNG9Z0XA  Hitachi HDS5C3030ALA630        0   \n1  2016-01-01         Z305B2QN              ST4000DM000        0   \n2  2016-01-01   MJ0351YNG9Z7LA  Hitachi HDS5C3030ALA630        0   \n3  2016-01-01   MJ0351YNGABYAA  Hitachi HDS5C3030ALA630        0   \n4  2016-01-01  WD-WMC4N2899475             WDC WD30EFRX        0   \n\n   capacity_bytes  smart_2_normalized  smart_5_normalized  smart_9_normalized  \\\n0   3.619360e-315               135.0                 100                  97   \n1   4.825809e-315                 NaN                 100                 100   \n2   3.619360e-315               136.0                 100                  97   \n3   3.619360e-315               136.0                 100                  97   \n4   3.619360e-315                 NaN                 200                  84   \n\n   smart_187_normalized  smart_188_normalized  smart_192_normalized  \\\n0                   NaN                   NaN                 100.0   \n1                 100.0                 100.0                 100.0   \n2                   NaN                   NaN                 100.0   \n3                   NaN                   NaN                 100.0   \n4                   NaN                   NaN                 200.0   \n\n   smart_194_normalized  smart_197_normalized  smart_198_normalized  \\\n0                 253.0                   100                   100   \n1                  30.0                   100                   100   \n2                 250.0                   100                   100   \n3                 193.0                   100                   100   \n4                 121.0                   200                   100   \n\n            Brands  \n0          Hitachi  \n1          Seagate  \n2          Hitachi  \n3          Hitachi  \n4  Western Digital  ",
            "text/html": "<div>\n<style scoped>\n    .dataframe tbody tr th:only-of-type {\n        vertical-align: middle;\n    }\n\n    .dataframe tbody tr th {\n        vertical-align: top;\n    }\n\n    .dataframe thead th {\n        text-align: right;\n    }\n</style>\n<table border=\"1\" class=\"dataframe\">\n  <thead>\n    <tr style=\"text-align: right;\">\n      <th></th>\n      <th>date</th>\n      <th>serial_number</th>\n      <th>model</th>\n      <th>failure</th>\n      <th>capacity_bytes</th>\n      <th>smart_2_normalized</th>\n      <th>smart_5_normalized</th>\n      <th>smart_9_normalized</th>\n      <th>smart_187_normalized</th>\n      <th>smart_188_normalized</th>\n      <th>smart_192_normalized</th>\n      <th>smart_194_normalized</th>\n      <th>smart_197_normalized</th>\n      <th>smart_198_normalized</th>\n      <th>Brands</th>\n    </tr>\n  </thead>\n  <tbody>\n    <tr>\n      <th>0</th>\n      <td>2016-01-01</td>\n      <td>MJ0351YNG9Z0XA</td>\n      <td>Hitachi HDS5C3030ALA630</td>\n      <td>0</td>\n      <td>3.619360e-315</td>\n      <td>135.0</td>\n      <td>100</td>\n      <td>97</td>\n      <td>NaN</td>\n      <td>NaN</td>\n      <td>100.0</td>\n      <td>253.0</td>\n      <td>100</td>\n      <td>100</td>\n      <td>Hitachi</td>\n    </tr>\n    <tr>\n      <th>1</th>\n      <td>2016-01-01</td>\n      <td>Z305B2QN</td>\n      <td>ST4000DM000</td>\n      <td>0</td>\n      <td>4.825809e-315</td>\n      <td>NaN</td>\n      <td>100</td>\n      <td>100</td>\n      <td>100.0</td>\n      <td>100.0</td>\n      <td>100.0</td>\n      <td>30.0</td>\n      <td>100</td>\n      <td>100</td>\n      <td>Seagate</td>\n    </tr>\n    <tr>\n      <th>2</th>\n      <td>2016-01-01</td>\n      <td>MJ0351YNG9Z7LA</td>\n      <td>Hitachi HDS5C3030ALA630</td>\n      <td>0</td>\n      <td>3.619360e-315</td>\n      <td>136.0</td>\n      <td>100</td>\n      <td>97</td>\n      <td>NaN</td>\n      <td>NaN</td>\n      <td>100.0</td>\n      <td>250.0</td>\n      <td>100</td>\n      <td>100</td>\n      <td>Hitachi</td>\n    </tr>\n    <tr>\n      <th>3</th>\n      <td>2016-01-01</td>\n      <td>MJ0351YNGABYAA</td>\n      <td>Hitachi HDS5C3030ALA630</td>\n      <td>0</td>\n      <td>3.619360e-315</td>\n      <td>136.0</td>\n      <td>100</td>\n      <td>97</td>\n      <td>NaN</td>\n      <td>NaN</td>\n      <td>100.0</td>\n      <td>193.0</td>\n      <td>100</td>\n      <td>100</td>\n      <td>Hitachi</td>\n    </tr>\n    <tr>\n      <th>4</th>\n      <td>2016-01-01</td>\n      <td>WD-WMC4N2899475</td>\n      <td>WDC WD30EFRX</td>\n      <td>0</td>\n      <td>3.619360e-315</td>\n      <td>NaN</td>\n      <td>200</td>\n      <td>84</td>\n      <td>NaN</td>\n      <td>NaN</td>\n      <td>200.0</td>\n      <td>121.0</td>\n      <td>200</td>\n      <td>100</td>\n      <td>Western Digital</td>\n    </tr>\n  </tbody>\n</table>\n</div>"
          },
          "metadata": {}
        }
      ]
    },
    {
      "metadata": {
        "_uuid": "0d4ab65b07617c404c66f49fb48d5b234ed8b77d",
        "collapsed": true,
        "_cell_guid": "f0790538-7c70-4367-9b9c-3760e00e7d6f",
        "trusted": true
      },
      "cell_type": "code",
      "source": "df_total = df.groupby('Brands')['failure'].count().sort_values(ascending=False)",
      "execution_count": 10,
      "outputs": []
    },
    {
      "metadata": {
        "_uuid": "e0d02e753f02e2ad908ce761895f8f2f9cb4d7db",
        "_cell_guid": "621bbc0b-713b-4cd1-bf03-47d3f76ad8b8",
        "trusted": true
      },
      "cell_type": "code",
      "source": "pd.DataFrame(df_total)\ndf_total.head()",
      "execution_count": 11,
      "outputs": [
        {
          "output_type": "execute_result",
          "execution_count": 11,
          "data": {
            "text/plain": "Brands\nSeagate            1839553\nHitachi             650734\nHGST                562944\nWestern Digital     113713\nToshiba              12345\nName: failure, dtype: int64"
          },
          "metadata": {}
        }
      ]
    },
    {
      "metadata": {
        "_uuid": "3b291f4ac8ca92c1d7966e49ae3cf726b525f2da",
        "_cell_guid": "df94b1f1-6c7e-4fbc-81da-91f76511ac5b",
        "trusted": true
      },
      "cell_type": "code",
      "source": "#Failure count for each manufacturer\ndf.groupby('Brands')['failure'].sum().sort_values()",
      "execution_count": 12,
      "outputs": [
        {
          "output_type": "execute_result",
          "execution_count": 12,
          "data": {
            "text/plain": "Brands\nSamsung              0\nToshiba              2\nHGST                 3\nHitachi             22\nWestern Digital     26\nSeagate            162\nName: failure, dtype: int64"
          },
          "metadata": {}
        }
      ]
    },
    {
      "metadata": {
        "_uuid": "8e01ab499d0fa4c3d93be19784f4e770ee5fdac5",
        "_cell_guid": "6d72d85b-4726-4cae-9bc4-e6b456668b8e",
        "trusted": true
      },
      "cell_type": "code",
      "source": "#Failure count for each model\ndf.groupby('model')['failure'].sum().sort_values(ascending=False)",
      "execution_count": 13,
      "outputs": [
        {
          "output_type": "execute_result",
          "execution_count": 13,
          "data": {
            "text/plain": "model\nST4000DM000                139\nST320LT007                  15\nHitachi HDS722020ALA330     13\nWDC WD800AAJS                6\nWDC WD30EFRX                 6\nHitachi HDS5C3030ALA630      5\nHitachi HDS5C4040ALE630      4\nWDC WD20EFRX                 3\nST3160318AS                  2\nST4000DX000                  2\nWDC WD10EADS                 2\nHGST HMS5C4040ALE640         2\nWDC WD1600AAJS               2\nWDC WD1600AAJB               2\nST6000DX000                  2\nST3160316AS                  1\nTOSHIBA MD04ABA500V          1\nWDC WD3200BEKT               1\nTOSHIBA DT01ACA300           1\nWDC WD3200BEKX               1\nST9250315AS                  1\nHGST HMS5C4040BLE640         1\nWDC WD60EFRX                 1\nWDC WD800AAJB                1\nWDC WD800BB                  1\nST3500320AS                  0\nST31500341AS                 0\nST31500541AS                 0\nWDC WD800LB                  0\nST250LT007                   0\n                          ... \nHGST HUH728080ALE600         0\nHGST HDS724040ALE640         0\nHitachi HDT725025VLA380      0\nWDC WD1001FALS               0\nST500LM012 HN                0\nST9320325AS                  0\nWDC WD800JB                  0\nWDC WD5003ABYX               0\nWDC WD5002ABYS               0\nWDC WD5000LPVX               0\nWDC WD5000BPKT               0\nWDC WD40EFRX                 0\nWDC WD3200LPVX               0\nWDC WD3200AAKS               0\nWDC WD3200AAJS               0\nWDC WD3200AAJB               0\nWDC WD2500BPVT               0\nWDC WD2500BEVT               0\nWDC WD2500AAJS               0\nWDC WD2500AAJB               0\nWDC WD1600BPVT               0\nWDC WD15EARS                 0\nWDC WD10EARX                 0\nWDC WD10EARS                 0\nWDC WD10EALS                 0\nWDC WD10EADX                 0\nWDC WD10EACS                 0\nWDC WD800JD                  0\nTOSHIBA MD04ABA400V          0\nHGST HDS5C4040ALE630         0\nName: failure, Length: 69, dtype: int64"
          },
          "metadata": {}
        }
      ]
    },
    {
      "metadata": {
        "_uuid": "0519078f84062c174c642bfada6ef737711be641",
        "collapsed": true,
        "_cell_guid": "053b64d3-da85-41f2-8b9e-975085fc3940",
        "trusted": true
      },
      "cell_type": "code",
      "source": "#Total null in each column grouped by brands\nlabel_cols = [   \"smart_2_normalized\",# \"smart_2_raw\",\n                 \"smart_5_normalized\",# \"smart_5_raw\",\n                 \"smart_9_normalized\",# \"smart_9_raw\",\n                 \"smart_187_normalized\",# \"smart_187_raw\",\n                 \"smart_188_normalized\",# \"smart_188_raw\",\n                 \"smart_192_normalized\",# \"smart_192_raw\",\n                 \"smart_194_normalized\",# \"smart_194_raw\",\n                 \"smart_197_normalized\",# \"smart_197_raw\",\n                 \"smart_198_normalized\",]# \"smart_198_raw\",]\ndf_nulls = []\nfor col in label_cols:\n    #print(col + \":\")\n    df_nulls.append(df[col].isnull().groupby([df['Brands']]).sum())\n    \n    #print(\"\\n\")",
      "execution_count": 14,
      "outputs": []
    },
    {
      "metadata": {
        "_uuid": "2161de2faecc58f5e5c0908ba7a1452434b2ed3c",
        "_cell_guid": "371ec0c6-689b-4bec-9e46-1a3fcd7608fc",
        "trusted": true
      },
      "cell_type": "code",
      "source": "df_total = pd.DataFrame(df_total)\ndf_total.columns = ['Total']\ndf_total",
      "execution_count": 15,
      "outputs": [
        {
          "output_type": "execute_result",
          "execution_count": 15,
          "data": {
            "text/plain": "                   Total\nBrands                  \nSeagate          1839553\nHitachi           650734\nHGST              562944\nWestern Digital   113713\nToshiba            12345\nSamsung                6",
            "text/html": "<div>\n<style scoped>\n    .dataframe tbody tr th:only-of-type {\n        vertical-align: middle;\n    }\n\n    .dataframe tbody tr th {\n        vertical-align: top;\n    }\n\n    .dataframe thead th {\n        text-align: right;\n    }\n</style>\n<table border=\"1\" class=\"dataframe\">\n  <thead>\n    <tr style=\"text-align: right;\">\n      <th></th>\n      <th>Total</th>\n    </tr>\n    <tr>\n      <th>Brands</th>\n      <th></th>\n    </tr>\n  </thead>\n  <tbody>\n    <tr>\n      <th>Seagate</th>\n      <td>1839553</td>\n    </tr>\n    <tr>\n      <th>Hitachi</th>\n      <td>650734</td>\n    </tr>\n    <tr>\n      <th>HGST</th>\n      <td>562944</td>\n    </tr>\n    <tr>\n      <th>Western Digital</th>\n      <td>113713</td>\n    </tr>\n    <tr>\n      <th>Toshiba</th>\n      <td>12345</td>\n    </tr>\n    <tr>\n      <th>Samsung</th>\n      <td>6</td>\n    </tr>\n  </tbody>\n</table>\n</div>"
          },
          "metadata": {}
        }
      ]
    },
    {
      "metadata": {
        "_uuid": "3b6cf28dfeb64d4f702db665fc56835d5bfb9fee",
        "_cell_guid": "7d12e2fb-0fb3-4017-ad27-eea605c2ed95",
        "trusted": true
      },
      "cell_type": "code",
      "source": "df_total.loc['HGST']",
      "execution_count": 16,
      "outputs": [
        {
          "output_type": "execute_result",
          "execution_count": 16,
          "data": {
            "text/plain": "Total    562944\nName: HGST, dtype: int64"
          },
          "metadata": {}
        }
      ]
    },
    {
      "metadata": {
        "_uuid": "b021a59eb2c2a3c9f6f2506dc20b6554396035eb",
        "_cell_guid": "e2915143-058c-4230-b56f-cd040832802a",
        "scrolled": true,
        "trusted": true
      },
      "cell_type": "code",
      "source": "df_nulls = pd.DataFrame(df_nulls)\ndf_nulls",
      "execution_count": 17,
      "outputs": [
        {
          "output_type": "execute_result",
          "execution_count": 17,
          "data": {
            "text/plain": "Brands                    HGST   Hitachi  Samsung    Seagate  Toshiba  \\\nsmart_2_normalized         0.0       0.0      6.0  1806458.0      0.0   \nsmart_5_normalized         0.0       0.0      0.0        0.0      0.0   \nsmart_9_normalized         0.0       0.0      0.0        0.0      0.0   \nsmart_187_normalized  562944.0  650734.0      0.0    33095.0  12345.0   \nsmart_188_normalized  562944.0  650734.0      0.0    33095.0  12345.0   \nsmart_192_normalized       0.0       0.0      6.0     9275.0      0.0   \nsmart_194_normalized       0.0       0.0      0.0        0.0      0.0   \nsmart_197_normalized       0.0       0.0      0.0        0.0      0.0   \nsmart_198_normalized       0.0       0.0      0.0        0.0      0.0   \n\nBrands                Western Digital  \nsmart_2_normalized           113713.0  \nsmart_5_normalized                0.0  \nsmart_9_normalized                0.0  \nsmart_187_normalized         113661.0  \nsmart_188_normalized         113661.0  \nsmart_192_normalized            300.0  \nsmart_194_normalized             52.0  \nsmart_197_normalized              0.0  \nsmart_198_normalized              0.0  ",
            "text/html": "<div>\n<style scoped>\n    .dataframe tbody tr th:only-of-type {\n        vertical-align: middle;\n    }\n\n    .dataframe tbody tr th {\n        vertical-align: top;\n    }\n\n    .dataframe thead th {\n        text-align: right;\n    }\n</style>\n<table border=\"1\" class=\"dataframe\">\n  <thead>\n    <tr style=\"text-align: right;\">\n      <th>Brands</th>\n      <th>HGST</th>\n      <th>Hitachi</th>\n      <th>Samsung</th>\n      <th>Seagate</th>\n      <th>Toshiba</th>\n      <th>Western Digital</th>\n    </tr>\n  </thead>\n  <tbody>\n    <tr>\n      <th>smart_2_normalized</th>\n      <td>0.0</td>\n      <td>0.0</td>\n      <td>6.0</td>\n      <td>1806458.0</td>\n      <td>0.0</td>\n      <td>113713.0</td>\n    </tr>\n    <tr>\n      <th>smart_5_normalized</th>\n      <td>0.0</td>\n      <td>0.0</td>\n      <td>0.0</td>\n      <td>0.0</td>\n      <td>0.0</td>\n      <td>0.0</td>\n    </tr>\n    <tr>\n      <th>smart_9_normalized</th>\n      <td>0.0</td>\n      <td>0.0</td>\n      <td>0.0</td>\n      <td>0.0</td>\n      <td>0.0</td>\n      <td>0.0</td>\n    </tr>\n    <tr>\n      <th>smart_187_normalized</th>\n      <td>562944.0</td>\n      <td>650734.0</td>\n      <td>0.0</td>\n      <td>33095.0</td>\n      <td>12345.0</td>\n      <td>113661.0</td>\n    </tr>\n    <tr>\n      <th>smart_188_normalized</th>\n      <td>562944.0</td>\n      <td>650734.0</td>\n      <td>0.0</td>\n      <td>33095.0</td>\n      <td>12345.0</td>\n      <td>113661.0</td>\n    </tr>\n    <tr>\n      <th>smart_192_normalized</th>\n      <td>0.0</td>\n      <td>0.0</td>\n      <td>6.0</td>\n      <td>9275.0</td>\n      <td>0.0</td>\n      <td>300.0</td>\n    </tr>\n    <tr>\n      <th>smart_194_normalized</th>\n      <td>0.0</td>\n      <td>0.0</td>\n      <td>0.0</td>\n      <td>0.0</td>\n      <td>0.0</td>\n      <td>52.0</td>\n    </tr>\n    <tr>\n      <th>smart_197_normalized</th>\n      <td>0.0</td>\n      <td>0.0</td>\n      <td>0.0</td>\n      <td>0.0</td>\n      <td>0.0</td>\n      <td>0.0</td>\n    </tr>\n    <tr>\n      <th>smart_198_normalized</th>\n      <td>0.0</td>\n      <td>0.0</td>\n      <td>0.0</td>\n      <td>0.0</td>\n      <td>0.0</td>\n      <td>0.0</td>\n    </tr>\n  </tbody>\n</table>\n</div>"
          },
          "metadata": {}
        }
      ]
    },
    {
      "metadata": {
        "_uuid": "fe26e3727c8f3e1f652e28fa586efd7d81ca2774",
        "_cell_guid": "8524edf7-35e8-4a41-bd16-3953ea458bc4",
        "trusted": true
      },
      "cell_type": "code",
      "source": "df_nulls = df_nulls.transpose()\ndf_nulls",
      "execution_count": 18,
      "outputs": [
        {
          "output_type": "execute_result",
          "execution_count": 18,
          "data": {
            "text/plain": "                 smart_2_normalized  smart_5_normalized  smart_9_normalized  \\\nBrands                                                                        \nHGST                            0.0                 0.0                 0.0   \nHitachi                         0.0                 0.0                 0.0   \nSamsung                         6.0                 0.0                 0.0   \nSeagate                   1806458.0                 0.0                 0.0   \nToshiba                         0.0                 0.0                 0.0   \nWestern Digital            113713.0                 0.0                 0.0   \n\n                 smart_187_normalized  smart_188_normalized  \\\nBrands                                                        \nHGST                         562944.0              562944.0   \nHitachi                      650734.0              650734.0   \nSamsung                           0.0                   0.0   \nSeagate                       33095.0               33095.0   \nToshiba                       12345.0               12345.0   \nWestern Digital              113661.0              113661.0   \n\n                 smart_192_normalized  smart_194_normalized  \\\nBrands                                                        \nHGST                              0.0                   0.0   \nHitachi                           0.0                   0.0   \nSamsung                           6.0                   0.0   \nSeagate                        9275.0                   0.0   \nToshiba                           0.0                   0.0   \nWestern Digital                 300.0                  52.0   \n\n                 smart_197_normalized  smart_198_normalized  \nBrands                                                       \nHGST                              0.0                   0.0  \nHitachi                           0.0                   0.0  \nSamsung                           0.0                   0.0  \nSeagate                           0.0                   0.0  \nToshiba                           0.0                   0.0  \nWestern Digital                   0.0                   0.0  ",
            "text/html": "<div>\n<style scoped>\n    .dataframe tbody tr th:only-of-type {\n        vertical-align: middle;\n    }\n\n    .dataframe tbody tr th {\n        vertical-align: top;\n    }\n\n    .dataframe thead th {\n        text-align: right;\n    }\n</style>\n<table border=\"1\" class=\"dataframe\">\n  <thead>\n    <tr style=\"text-align: right;\">\n      <th></th>\n      <th>smart_2_normalized</th>\n      <th>smart_5_normalized</th>\n      <th>smart_9_normalized</th>\n      <th>smart_187_normalized</th>\n      <th>smart_188_normalized</th>\n      <th>smart_192_normalized</th>\n      <th>smart_194_normalized</th>\n      <th>smart_197_normalized</th>\n      <th>smart_198_normalized</th>\n    </tr>\n    <tr>\n      <th>Brands</th>\n      <th></th>\n      <th></th>\n      <th></th>\n      <th></th>\n      <th></th>\n      <th></th>\n      <th></th>\n      <th></th>\n      <th></th>\n    </tr>\n  </thead>\n  <tbody>\n    <tr>\n      <th>HGST</th>\n      <td>0.0</td>\n      <td>0.0</td>\n      <td>0.0</td>\n      <td>562944.0</td>\n      <td>562944.0</td>\n      <td>0.0</td>\n      <td>0.0</td>\n      <td>0.0</td>\n      <td>0.0</td>\n    </tr>\n    <tr>\n      <th>Hitachi</th>\n      <td>0.0</td>\n      <td>0.0</td>\n      <td>0.0</td>\n      <td>650734.0</td>\n      <td>650734.0</td>\n      <td>0.0</td>\n      <td>0.0</td>\n      <td>0.0</td>\n      <td>0.0</td>\n    </tr>\n    <tr>\n      <th>Samsung</th>\n      <td>6.0</td>\n      <td>0.0</td>\n      <td>0.0</td>\n      <td>0.0</td>\n      <td>0.0</td>\n      <td>6.0</td>\n      <td>0.0</td>\n      <td>0.0</td>\n      <td>0.0</td>\n    </tr>\n    <tr>\n      <th>Seagate</th>\n      <td>1806458.0</td>\n      <td>0.0</td>\n      <td>0.0</td>\n      <td>33095.0</td>\n      <td>33095.0</td>\n      <td>9275.0</td>\n      <td>0.0</td>\n      <td>0.0</td>\n      <td>0.0</td>\n    </tr>\n    <tr>\n      <th>Toshiba</th>\n      <td>0.0</td>\n      <td>0.0</td>\n      <td>0.0</td>\n      <td>12345.0</td>\n      <td>12345.0</td>\n      <td>0.0</td>\n      <td>0.0</td>\n      <td>0.0</td>\n      <td>0.0</td>\n    </tr>\n    <tr>\n      <th>Western Digital</th>\n      <td>113713.0</td>\n      <td>0.0</td>\n      <td>0.0</td>\n      <td>113661.0</td>\n      <td>113661.0</td>\n      <td>300.0</td>\n      <td>52.0</td>\n      <td>0.0</td>\n      <td>0.0</td>\n    </tr>\n  </tbody>\n</table>\n</div>"
          },
          "metadata": {}
        }
      ]
    },
    {
      "metadata": {
        "_uuid": "71c63ccc1df131a27a6eeb59914c755a1ecc7e7d",
        "collapsed": true,
        "_cell_guid": "8db112d3-e5ba-4885-a1f1-fcbec38e2218",
        "trusted": true
      },
      "cell_type": "code",
      "source": "from sklearn.preprocessing import Imputer",
      "execution_count": 19,
      "outputs": []
    },
    {
      "metadata": {
        "_uuid": "7f6aec160ea0fbaaadc43cea3e95b7e66cd44e20",
        "_cell_guid": "290ddd30-f5c1-4671-9915-298d1ef8f0b0",
        "scrolled": true,
        "trusted": true
      },
      "cell_type": "code",
      "source": "for col in label_cols:\n    #print(col)\n    print(\"\\n\")\n    for brand in df_nulls.index:\n        #print(str(col) + \":\" + str(df_nulls[col].loc[brand]))\n        nulls = df_nulls[col].loc[brand]\n        total = df_total['Total'].loc[brand]\n        #print(\"Total:\", total)\n        null_perc = float(nulls/total)*100\n        if null_perc > 50:#df_nulls[col].loc[brand] == total:\n            print(str(col) + \" -> \" +  str(brand) + \" -> \" + \"Not recorded\")\n            #df[col] = [df[col].fillna('NR') for i in df['Brands'] == brand]\n            #df[col] = df[col].apply(lambda x: x.fillna('NR') for i in df['Brands'] == brand)\n            not_recorded_index = df[df.loc[:, \"Brands\"] == brand].index\n            df.loc[not_recorded_index, col] = 9999\n        #else:\n         #   imp = Imputer(missing_values='NaN', strategy='most_frequent', axis=0)\n         #   null_brands       = df[df.loc[:, \"Brands\"] == brand]\n         #   null_brands_index = df[df.loc[:, \"Brands\"] == brand].index\n         #   print(brand)\n         #   print(null_brands_index)\n         #   imp = imp.fit(null_brands[label_cols])\n         #   df.loc[null_brands_index, col] = imp.transform(df[label_cols])",
      "execution_count": 20,
      "outputs": [
        {
          "output_type": "stream",
          "text": "\n\nsmart_2_normalized -> Samsung -> Not recorded\nsmart_2_normalized -> Seagate -> Not recorded\nsmart_2_normalized -> Western Digital -> Not recorded\n\n\n\n\n\n\nsmart_187_normalized -> HGST -> Not recorded\nsmart_187_normalized -> Hitachi -> Not recorded\nsmart_187_normalized -> Toshiba -> Not recorded\nsmart_187_normalized -> Western Digital -> Not recorded\n\n\nsmart_188_normalized -> HGST -> Not recorded\nsmart_188_normalized -> Hitachi -> Not recorded\nsmart_188_normalized -> Toshiba -> Not recorded\nsmart_188_normalized -> Western Digital -> Not recorded\n\n\nsmart_192_normalized -> Samsung -> Not recorded\n\n\n\n\n\n\n",
          "name": "stdout"
        }
      ]
    },
    {
      "metadata": {
        "_uuid": "1adbbc7c2375f266e3b1a4b2dd523fd28631985d",
        "_cell_guid": "b862db24-2202-4354-95b8-cb0b31a07ea5",
        "trusted": true
      },
      "cell_type": "code",
      "source": "df.isnull().sum()",
      "execution_count": 21,
      "outputs": [
        {
          "output_type": "execute_result",
          "execution_count": 21,
          "data": {
            "text/plain": "date                        0\nserial_number               0\nmodel                       0\nfailure                     0\ncapacity_bytes              0\nsmart_2_normalized          0\nsmart_5_normalized          0\nsmart_9_normalized          0\nsmart_187_normalized    33095\nsmart_188_normalized    33095\nsmart_192_normalized     9575\nsmart_194_normalized       52\nsmart_197_normalized        0\nsmart_198_normalized        0\nBrands                      0\ndtype: int64"
          },
          "metadata": {}
        }
      ]
    },
    {
      "metadata": {
        "_uuid": "a6500be2350f2506f86ecacad9c63d7810417b09",
        "collapsed": true,
        "_cell_guid": "35746228-4ca3-4914-a610-e770cc1539ee",
        "trusted": false
      },
      "cell_type": "code",
      "source": "\"\"\"df = df[[        \"smart_5_normalized\",# \"smart_5_raw\",\n                 \"smart_9_normalized\",# \"smart_9_raw\",\n                 \"smart_187_normalized\",# \"smart_187_raw\",\n                 \"smart_188_normalized\",# \"smart_188_raw\",\n                 \"smart_192_normalized\",# \"smart_192_raw\",\n                 \"smart_194_normalized\",# \"smart_194_raw\",\n                 \"smart_197_normalized\",# \"smart_197_raw\",\n                 \"smart_198_normalized\"]]# \"smart_198_raw\",]\"\"\"",
      "execution_count": null,
      "outputs": []
    },
    {
      "metadata": {
        "_uuid": "e30a5f85693967adc2143a5944cec6e874ebcd36",
        "collapsed": true,
        "_cell_guid": "a0ac3b8f-4e03-4dc8-966f-f6654f7f520f",
        "trusted": false
      },
      "cell_type": "code",
      "source": "\"\"\"df_hgst = df[df['Brands'] == 'HGST']\ndf_hitachi = df[df['Brands'] == 'Hitachi']\ndf_samsumg = df[df['Brands'] == 'Samsung']\ndf_seagate = df[df['Brands'] == 'Seagate']\ndf_toshiba = df[df['Brands'] == 'Toshiba']\ndf_wd = df[df['Brands'] == 'Western Digital']\"\"\"",
      "execution_count": null,
      "outputs": []
    },
    {
      "metadata": {
        "_uuid": "4ebbb37ba1df6241e5f3c6ce576c25d3453b229e",
        "collapsed": true,
        "_cell_guid": "7ae083b6-d8fb-4674-977b-8b65150bb000",
        "trusted": false
      },
      "cell_type": "code",
      "source": "\"\"\"df_hgst.reset_index(inplace=True)\ndf_hitachi.reset_index(inplace=True)\ndf_samsumg.reset_index(inplace=True)\ndf_seagate.reset_index(inplace=True)\ndf_toshiba.reset_index(inplace=True)\ndf_wd.reset_index(inplace=True)\"\"\"",
      "execution_count": null,
      "outputs": []
    },
    {
      "metadata": {
        "_uuid": "e2e76909f12e2f594fd1593ed48f92f36e564b2f",
        "collapsed": true,
        "_cell_guid": "f1808984-a4ce-4dbc-b081-712c3845f753",
        "trusted": false
      },
      "cell_type": "code",
      "source": "#df_hgst.head()",
      "execution_count": null,
      "outputs": []
    },
    {
      "metadata": {
        "_uuid": "60bd7ef533dc262a1136a07281cfce395714db23",
        "collapsed": true,
        "_cell_guid": "20da566b-9992-4d4f-a69e-22639b7c7f91",
        "trusted": true
      },
      "cell_type": "code",
      "source": "from sklearn.model_selection import train_test_split\nfrom sklearn.metrics import accuracy_score",
      "execution_count": 22,
      "outputs": []
    },
    {
      "metadata": {
        "_uuid": "80309fe7cb41901e082d0f644cec47289d1fef04",
        "collapsed": true,
        "_cell_guid": "2ee3db53-1940-4d18-9790-379294858cec",
        "trusted": true
      },
      "cell_type": "code",
      "source": "df_temp = df",
      "execution_count": 23,
      "outputs": []
    },
    {
      "metadata": {
        "_uuid": "e0edf49e7816cae69692541f7e0d0e1cfed0b793",
        "_cell_guid": "01b4d643-9a28-4524-a857-b12527287a7b",
        "trusted": true
      },
      "cell_type": "code",
      "source": "\"\"\"imp = Imputer(missing_values='NaN', strategy='mean', axis=0)\n\nfor col in label_cols:\n    for brand in df_nulls.index:\n        brand_total       = df[df.loc[:, \"Brands\"] == brand]\n        brand_total_index = df[df.loc[:, \"Brands\"] == brand].index\n        brand_notnull     = brand_total[brand_total[col].isnull() == False]\n        print(\"Not nullshape: \", brand_notnull.shape)\n        #brand_notnull     = brand_notnull[col] \n        \n        brand_nulls       = brand_total[brand_total[col].isnull()]\n        print(\"Null shape: \", brand_nulls.shape)\n        #brand_nulls       = brand_nulls[col]\n        \n        #mode = brand_total.filter(cols).mode()\n        #print(\"Mode: \", mode)\n        \n        #df.loc[brand_total_index, col] = df.loc[brand_total_index, col].fillna(brand_notnull[col].mode())\n        if brand_nulls.shape[0] != 0:\n            #X_train, X_test, y_train, y_test = train_test_split(brand_total[label_cols], brand_total[col], test_size=0.30)\n            imp.fit(brand_total[[col]])\n            df_temp.loc[brand_total_index, col] = imp.transform(df_temp.loc[[brand_total_index, col]]).ravel()\n            print(df_temp[col])\n        #y_test[col] = imp.predict(X_test)\n            #print(accuracy_score(y_test, X_test[col]))\"\"\"",
      "execution_count": 25,
      "outputs": [
        {
          "output_type": "stream",
          "text": "Not nullshape:  (562944, 15)\nNull shape:  (0, 15)\nNot nullshape:  (650734, 15)\nNull shape:  (0, 15)\nNot nullshape:  (6, 15)\nNull shape:  (0, 15)\nNot nullshape:  (1839553, 15)\nNull shape:  (0, 15)\nNot nullshape:  (12345, 15)\nNull shape:  (0, 15)\nNot nullshape:  (113713, 15)\nNull shape:  (0, 15)\nNot nullshape:  (562944, 15)\nNull shape:  (0, 15)\nNot nullshape:  (650734, 15)\nNull shape:  (0, 15)\nNot nullshape:  (6, 15)\nNull shape:  (0, 15)\nNot nullshape:  (1839553, 15)\nNull shape:  (0, 15)\nNot nullshape:  (12345, 15)\nNull shape:  (0, 15)\nNot nullshape:  (113713, 15)\nNull shape:  (0, 15)\nNot nullshape:  (562944, 15)\nNull shape:  (0, 15)\nNot nullshape:  (650734, 15)\nNull shape:  (0, 15)\nNot nullshape:  (6, 15)\nNull shape:  (0, 15)\nNot nullshape:  (1839553, 15)\nNull shape:  (0, 15)\nNot nullshape:  (12345, 15)\nNull shape:  (0, 15)\nNot nullshape:  (113713, 15)\nNull shape:  (0, 15)\nNot nullshape:  (562944, 15)\nNull shape:  (0, 15)\nNot nullshape:  (650734, 15)\nNull shape:  (0, 15)\nNot nullshape:  (6, 15)\nNull shape:  (0, 15)\nNot nullshape:  (1806458, 15)\nNull shape:  (33095, 15)\n",
          "name": "stdout"
        },
        {
          "output_type": "error",
          "ename": "TypeError",
          "evalue": "unhashable type: 'Int64Index'",
          "traceback": [
            "\u001b[0;31m---------------------------------------------------------------------------\u001b[0m",
            "\u001b[0;31mTypeError\u001b[0m                                 Traceback (most recent call last)",
            "\u001b[0;32m<ipython-input-25-7a8334c35d59>\u001b[0m in \u001b[0;36m<module>\u001b[0;34m()\u001b[0m\n\u001b[1;32m     20\u001b[0m             \u001b[0;31m#X_train, X_test, y_train, y_test = train_test_split(brand_total[label_cols], brand_total[col], test_size=0.30)\u001b[0m\u001b[0;34m\u001b[0m\u001b[0;34m\u001b[0m\u001b[0m\n\u001b[1;32m     21\u001b[0m             \u001b[0mimp\u001b[0m\u001b[0;34m.\u001b[0m\u001b[0mfit\u001b[0m\u001b[0;34m(\u001b[0m\u001b[0mbrand_total\u001b[0m\u001b[0;34m[\u001b[0m\u001b[0;34m[\u001b[0m\u001b[0mcol\u001b[0m\u001b[0;34m]\u001b[0m\u001b[0;34m]\u001b[0m\u001b[0;34m)\u001b[0m\u001b[0;34m\u001b[0m\u001b[0m\n\u001b[0;32m---> 22\u001b[0;31m             \u001b[0mdf_temp\u001b[0m\u001b[0;34m.\u001b[0m\u001b[0mloc\u001b[0m\u001b[0;34m[\u001b[0m\u001b[0mbrand_total_index\u001b[0m\u001b[0;34m,\u001b[0m \u001b[0mcol\u001b[0m\u001b[0;34m]\u001b[0m \u001b[0;34m=\u001b[0m \u001b[0mimp\u001b[0m\u001b[0;34m.\u001b[0m\u001b[0mtransform\u001b[0m\u001b[0;34m(\u001b[0m\u001b[0mdf_temp\u001b[0m\u001b[0;34m.\u001b[0m\u001b[0mloc\u001b[0m\u001b[0;34m[\u001b[0m\u001b[0;34m[\u001b[0m\u001b[0mbrand_total_index\u001b[0m\u001b[0;34m,\u001b[0m \u001b[0mcol\u001b[0m\u001b[0;34m]\u001b[0m\u001b[0;34m]\u001b[0m\u001b[0;34m)\u001b[0m\u001b[0;34m.\u001b[0m\u001b[0mravel\u001b[0m\u001b[0;34m(\u001b[0m\u001b[0;34m)\u001b[0m\u001b[0;34m\u001b[0m\u001b[0m\n\u001b[0m\u001b[1;32m     23\u001b[0m             \u001b[0mprint\u001b[0m\u001b[0;34m(\u001b[0m\u001b[0mdf_temp\u001b[0m\u001b[0;34m[\u001b[0m\u001b[0mcol\u001b[0m\u001b[0;34m]\u001b[0m\u001b[0;34m)\u001b[0m\u001b[0;34m\u001b[0m\u001b[0m\n\u001b[1;32m     24\u001b[0m         \u001b[0;31m#y_test[col] = imp.predict(X_test)\u001b[0m\u001b[0;34m\u001b[0m\u001b[0;34m\u001b[0m\u001b[0m\n",
            "\u001b[0;32m/opt/conda/lib/python3.6/site-packages/pandas/core/indexing.py\u001b[0m in \u001b[0;36m__getitem__\u001b[0;34m(self, key)\u001b[0m\n\u001b[1;32m   1371\u001b[0m \u001b[0;34m\u001b[0m\u001b[0m\n\u001b[1;32m   1372\u001b[0m             \u001b[0mmaybe_callable\u001b[0m \u001b[0;34m=\u001b[0m \u001b[0mcom\u001b[0m\u001b[0;34m.\u001b[0m\u001b[0m_apply_if_callable\u001b[0m\u001b[0;34m(\u001b[0m\u001b[0mkey\u001b[0m\u001b[0;34m,\u001b[0m \u001b[0mself\u001b[0m\u001b[0;34m.\u001b[0m\u001b[0mobj\u001b[0m\u001b[0;34m)\u001b[0m\u001b[0;34m\u001b[0m\u001b[0m\n\u001b[0;32m-> 1373\u001b[0;31m             \u001b[0;32mreturn\u001b[0m \u001b[0mself\u001b[0m\u001b[0;34m.\u001b[0m\u001b[0m_getitem_axis\u001b[0m\u001b[0;34m(\u001b[0m\u001b[0mmaybe_callable\u001b[0m\u001b[0;34m,\u001b[0m \u001b[0maxis\u001b[0m\u001b[0;34m=\u001b[0m\u001b[0maxis\u001b[0m\u001b[0;34m)\u001b[0m\u001b[0;34m\u001b[0m\u001b[0m\n\u001b[0m\u001b[1;32m   1374\u001b[0m \u001b[0;34m\u001b[0m\u001b[0m\n\u001b[1;32m   1375\u001b[0m     \u001b[0;32mdef\u001b[0m \u001b[0m_is_scalar_access\u001b[0m\u001b[0;34m(\u001b[0m\u001b[0mself\u001b[0m\u001b[0;34m,\u001b[0m \u001b[0mkey\u001b[0m\u001b[0;34m)\u001b[0m\u001b[0;34m:\u001b[0m\u001b[0;34m\u001b[0m\u001b[0m\n",
            "\u001b[0;32m/opt/conda/lib/python3.6/site-packages/pandas/core/indexing.py\u001b[0m in \u001b[0;36m_getitem_axis\u001b[0;34m(self, key, axis)\u001b[0m\n\u001b[1;32m   1614\u001b[0m                     \u001b[0;32mraise\u001b[0m \u001b[0mValueError\u001b[0m\u001b[0;34m(\u001b[0m\u001b[0;34m'Cannot index with multidimensional key'\u001b[0m\u001b[0;34m)\u001b[0m\u001b[0;34m\u001b[0m\u001b[0m\n\u001b[1;32m   1615\u001b[0m \u001b[0;34m\u001b[0m\u001b[0m\n\u001b[0;32m-> 1616\u001b[0;31m                 \u001b[0;32mreturn\u001b[0m \u001b[0mself\u001b[0m\u001b[0;34m.\u001b[0m\u001b[0m_getitem_iterable\u001b[0m\u001b[0;34m(\u001b[0m\u001b[0mkey\u001b[0m\u001b[0;34m,\u001b[0m \u001b[0maxis\u001b[0m\u001b[0;34m=\u001b[0m\u001b[0maxis\u001b[0m\u001b[0;34m)\u001b[0m\u001b[0;34m\u001b[0m\u001b[0m\n\u001b[0m\u001b[1;32m   1617\u001b[0m \u001b[0;34m\u001b[0m\u001b[0m\n\u001b[1;32m   1618\u001b[0m             \u001b[0;31m# nested tuple slicing\u001b[0m\u001b[0;34m\u001b[0m\u001b[0;34m\u001b[0m\u001b[0m\n",
            "\u001b[0;32m/opt/conda/lib/python3.6/site-packages/pandas/core/indexing.py\u001b[0m in \u001b[0;36m_getitem_iterable\u001b[0;34m(self, key, axis)\u001b[0m\n\u001b[1;32m   1113\u001b[0m \u001b[0;34m\u001b[0m\u001b[0m\n\u001b[1;32m   1114\u001b[0m         \u001b[0;32mif\u001b[0m \u001b[0mself\u001b[0m\u001b[0;34m.\u001b[0m\u001b[0m_should_validate_iterable\u001b[0m\u001b[0;34m(\u001b[0m\u001b[0maxis\u001b[0m\u001b[0;34m)\u001b[0m\u001b[0;34m:\u001b[0m\u001b[0;34m\u001b[0m\u001b[0m\n\u001b[0;32m-> 1115\u001b[0;31m             \u001b[0mself\u001b[0m\u001b[0;34m.\u001b[0m\u001b[0m_has_valid_type\u001b[0m\u001b[0;34m(\u001b[0m\u001b[0mkey\u001b[0m\u001b[0;34m,\u001b[0m \u001b[0maxis\u001b[0m\u001b[0;34m)\u001b[0m\u001b[0;34m\u001b[0m\u001b[0m\n\u001b[0m\u001b[1;32m   1116\u001b[0m \u001b[0;34m\u001b[0m\u001b[0m\n\u001b[1;32m   1117\u001b[0m         \u001b[0mlabels\u001b[0m \u001b[0;34m=\u001b[0m \u001b[0mself\u001b[0m\u001b[0;34m.\u001b[0m\u001b[0mobj\u001b[0m\u001b[0;34m.\u001b[0m\u001b[0m_get_axis\u001b[0m\u001b[0;34m(\u001b[0m\u001b[0maxis\u001b[0m\u001b[0;34m)\u001b[0m\u001b[0;34m\u001b[0m\u001b[0m\n",
            "\u001b[0;32m/opt/conda/lib/python3.6/site-packages/pandas/core/indexing.py\u001b[0m in \u001b[0;36m_has_valid_type\u001b[0;34m(self, key, axis)\u001b[0m\n\u001b[1;32m   1464\u001b[0m \u001b[0;34m\u001b[0m\u001b[0m\n\u001b[1;32m   1465\u001b[0m                 \u001b[0;31m# True indicates missing values\u001b[0m\u001b[0;34m\u001b[0m\u001b[0;34m\u001b[0m\u001b[0m\n\u001b[0;32m-> 1466\u001b[0;31m                 \u001b[0mmissing\u001b[0m \u001b[0;34m=\u001b[0m \u001b[0max\u001b[0m\u001b[0;34m.\u001b[0m\u001b[0mget_indexer_for\u001b[0m\u001b[0;34m(\u001b[0m\u001b[0mkey\u001b[0m\u001b[0;34m)\u001b[0m \u001b[0;34m<\u001b[0m \u001b[0;36m0\u001b[0m\u001b[0;34m\u001b[0m\u001b[0m\n\u001b[0m\u001b[1;32m   1467\u001b[0m \u001b[0;34m\u001b[0m\u001b[0m\n\u001b[1;32m   1468\u001b[0m                 \u001b[0;32mif\u001b[0m \u001b[0mnp\u001b[0m\u001b[0;34m.\u001b[0m\u001b[0many\u001b[0m\u001b[0;34m(\u001b[0m\u001b[0mmissing\u001b[0m\u001b[0;34m)\u001b[0m\u001b[0;34m:\u001b[0m\u001b[0;34m\u001b[0m\u001b[0m\n",
            "\u001b[0;32m/opt/conda/lib/python3.6/site-packages/pandas/core/indexes/base.py\u001b[0m in \u001b[0;36mget_indexer_for\u001b[0;34m(self, target, **kwargs)\u001b[0m\n\u001b[1;32m   2823\u001b[0m         \"\"\"\n\u001b[1;32m   2824\u001b[0m         \u001b[0;32mif\u001b[0m \u001b[0mself\u001b[0m\u001b[0;34m.\u001b[0m\u001b[0mis_unique\u001b[0m\u001b[0;34m:\u001b[0m\u001b[0;34m\u001b[0m\u001b[0m\n\u001b[0;32m-> 2825\u001b[0;31m             \u001b[0;32mreturn\u001b[0m \u001b[0mself\u001b[0m\u001b[0;34m.\u001b[0m\u001b[0mget_indexer\u001b[0m\u001b[0;34m(\u001b[0m\u001b[0mtarget\u001b[0m\u001b[0;34m,\u001b[0m \u001b[0;34m**\u001b[0m\u001b[0mkwargs\u001b[0m\u001b[0;34m)\u001b[0m\u001b[0;34m\u001b[0m\u001b[0m\n\u001b[0m\u001b[1;32m   2826\u001b[0m         \u001b[0mindexer\u001b[0m\u001b[0;34m,\u001b[0m \u001b[0m_\u001b[0m \u001b[0;34m=\u001b[0m \u001b[0mself\u001b[0m\u001b[0;34m.\u001b[0m\u001b[0mget_indexer_non_unique\u001b[0m\u001b[0;34m(\u001b[0m\u001b[0mtarget\u001b[0m\u001b[0;34m,\u001b[0m \u001b[0;34m**\u001b[0m\u001b[0mkwargs\u001b[0m\u001b[0;34m)\u001b[0m\u001b[0;34m\u001b[0m\u001b[0m\n\u001b[1;32m   2827\u001b[0m         \u001b[0;32mreturn\u001b[0m \u001b[0mindexer\u001b[0m\u001b[0;34m\u001b[0m\u001b[0m\n",
            "\u001b[0;32m/opt/conda/lib/python3.6/site-packages/pandas/core/indexes/base.py\u001b[0m in \u001b[0;36mget_indexer\u001b[0;34m(self, target, method, limit, tolerance)\u001b[0m\n\u001b[1;32m   2682\u001b[0m             \u001b[0mtarget\u001b[0m \u001b[0;34m=\u001b[0m \u001b[0mtarget\u001b[0m\u001b[0;34m.\u001b[0m\u001b[0mastype\u001b[0m\u001b[0;34m(\u001b[0m\u001b[0mobject\u001b[0m\u001b[0;34m)\u001b[0m\u001b[0;34m\u001b[0m\u001b[0m\n\u001b[1;32m   2683\u001b[0m             return this.get_indexer(target, method=method, limit=limit,\n\u001b[0;32m-> 2684\u001b[0;31m                                     tolerance=tolerance)\n\u001b[0m\u001b[1;32m   2685\u001b[0m \u001b[0;34m\u001b[0m\u001b[0m\n\u001b[1;32m   2686\u001b[0m         \u001b[0;32mif\u001b[0m \u001b[0;32mnot\u001b[0m \u001b[0mself\u001b[0m\u001b[0;34m.\u001b[0m\u001b[0mis_unique\u001b[0m\u001b[0;34m:\u001b[0m\u001b[0;34m\u001b[0m\u001b[0m\n",
            "\u001b[0;32m/opt/conda/lib/python3.6/site-packages/pandas/core/indexes/base.py\u001b[0m in \u001b[0;36mget_indexer\u001b[0;34m(self, target, method, limit, tolerance)\u001b[0m\n\u001b[1;32m   2700\u001b[0m                                  'backfill or nearest reindexing')\n\u001b[1;32m   2701\u001b[0m \u001b[0;34m\u001b[0m\u001b[0m\n\u001b[0;32m-> 2702\u001b[0;31m             \u001b[0mindexer\u001b[0m \u001b[0;34m=\u001b[0m \u001b[0mself\u001b[0m\u001b[0;34m.\u001b[0m\u001b[0m_engine\u001b[0m\u001b[0;34m.\u001b[0m\u001b[0mget_indexer\u001b[0m\u001b[0;34m(\u001b[0m\u001b[0mtarget\u001b[0m\u001b[0;34m.\u001b[0m\u001b[0m_values\u001b[0m\u001b[0;34m)\u001b[0m\u001b[0;34m\u001b[0m\u001b[0m\n\u001b[0m\u001b[1;32m   2703\u001b[0m \u001b[0;34m\u001b[0m\u001b[0m\n\u001b[1;32m   2704\u001b[0m         \u001b[0;32mreturn\u001b[0m \u001b[0m_ensure_platform_int\u001b[0m\u001b[0;34m(\u001b[0m\u001b[0mindexer\u001b[0m\u001b[0;34m)\u001b[0m\u001b[0;34m\u001b[0m\u001b[0m\n",
            "\u001b[0;32mpandas/_libs/index.pyx\u001b[0m in \u001b[0;36mpandas._libs.index.IndexEngine.get_indexer\u001b[0;34m()\u001b[0m\n",
            "\u001b[0;32mpandas/_libs/hashtable_class_helper.pxi\u001b[0m in \u001b[0;36mpandas._libs.hashtable.PyObjectHashTable.lookup\u001b[0;34m()\u001b[0m\n",
            "\u001b[0;32m/opt/conda/lib/python3.6/site-packages/pandas/core/indexes/base.py\u001b[0m in \u001b[0;36m__hash__\u001b[0;34m(self)\u001b[0m\n\u001b[1;32m   1719\u001b[0m \u001b[0;34m\u001b[0m\u001b[0m\n\u001b[1;32m   1720\u001b[0m     \u001b[0;32mdef\u001b[0m \u001b[0m__hash__\u001b[0m\u001b[0;34m(\u001b[0m\u001b[0mself\u001b[0m\u001b[0;34m)\u001b[0m\u001b[0;34m:\u001b[0m\u001b[0;34m\u001b[0m\u001b[0m\n\u001b[0;32m-> 1721\u001b[0;31m         \u001b[0;32mraise\u001b[0m \u001b[0mTypeError\u001b[0m\u001b[0;34m(\u001b[0m\u001b[0;34m\"unhashable type: %r\"\u001b[0m \u001b[0;34m%\u001b[0m \u001b[0mtype\u001b[0m\u001b[0;34m(\u001b[0m\u001b[0mself\u001b[0m\u001b[0;34m)\u001b[0m\u001b[0;34m.\u001b[0m\u001b[0m__name__\u001b[0m\u001b[0;34m)\u001b[0m\u001b[0;34m\u001b[0m\u001b[0m\n\u001b[0m\u001b[1;32m   1722\u001b[0m \u001b[0;34m\u001b[0m\u001b[0m\n\u001b[1;32m   1723\u001b[0m     \u001b[0;32mdef\u001b[0m \u001b[0m__setitem__\u001b[0m\u001b[0;34m(\u001b[0m\u001b[0mself\u001b[0m\u001b[0;34m,\u001b[0m \u001b[0mkey\u001b[0m\u001b[0;34m,\u001b[0m \u001b[0mvalue\u001b[0m\u001b[0;34m)\u001b[0m\u001b[0;34m:\u001b[0m\u001b[0;34m\u001b[0m\u001b[0m\n",
            "\u001b[0;31mTypeError\u001b[0m: unhashable type: 'Int64Index'"
          ]
        }
      ]
    },
    {
      "metadata": {
        "_uuid": "a3214aef92ad03b9cb1b2551e3b1bce23e83ef78",
        "_cell_guid": "d9786732-6983-4b24-87fd-ae45a4637782",
        "trusted": true
      },
      "cell_type": "code",
      "source": "brands = df['Brands'].unique()\nbrands",
      "execution_count": 26,
      "outputs": [
        {
          "output_type": "execute_result",
          "execution_count": 26,
          "data": {
            "text/plain": "array(['Hitachi', 'Seagate', 'Western Digital', 'HGST', 'Toshiba',\n       'Samsung'], dtype=object)"
          },
          "metadata": {}
        }
      ]
    },
    {
      "metadata": {
        "_uuid": "096147588426639eb06918fb37a373bc5b168f80",
        "_cell_guid": "cb847c8f-cf87-415a-a908-afd81ca93217",
        "trusted": true
      },
      "cell_type": "code",
      "source": "for brand in brands:\n        brand_total       = df_temp[df_temp.loc[:, \"Brands\"] == brand]\n        brand_total_index = df_temp[df_temp.loc[:, \"Brands\"] == brand].index\n        brand_notnull     = brand_total[brand_total[col].isnull() == False]\n        #brand_notnull     = brand_notnull[col] \n        \n        brand_nulls       = brand_total[brand_total[col].isnull()]\n        #brand_nulls       = brand_nulls[col]\n        \n        mean = brand_total.filter(label_cols).mean()\n        print(\"Brand: \", brand)\n        print(\"Mean: \", mean)\n        \n        df_temp.loc[brand_total_index, label_cols] = df_temp.loc[brand_total_index, label_cols].fillna(mean.iloc[0])#df.mode().iloc[0])\"\"\"",
      "execution_count": 28,
      "outputs": [
        {
          "output_type": "stream",
          "text": "Brand:  Hitachi\nMean:  smart_2_normalized       118.897792\nsmart_5_normalized        99.924393\nsmart_9_normalized        95.399092\nsmart_187_normalized    9999.000000\nsmart_188_normalized    9999.000000\nsmart_192_normalized      99.690274\nsmart_194_normalized     217.054661\nsmart_197_normalized     100.000000\nsmart_198_normalized     100.000000\ndtype: float64\nBrand:  Seagate\nMean:  smart_2_normalized      9999.000000\nsmart_5_normalized       102.732026\nsmart_9_normalized        89.643884\nsmart_187_normalized      99.965844\nsmart_188_normalized      99.999995\nsmart_192_normalized     102.259307\nsmart_194_normalized      27.813658\nsmart_197_normalized     102.734089\nsmart_198_normalized     102.734089\ndtype: float64\nBrand:  Western Digital\nMean:  smart_2_normalized      9999.000000\nsmart_5_normalized       199.997230\nsmart_9_normalized        79.585017\nsmart_187_normalized    9999.000000\nsmart_188_normalized    9999.000000\nsmart_192_normalized     199.999947\nsmart_194_normalized     121.567195\nsmart_197_normalized     200.000000\nsmart_198_normalized     106.091652\ndtype: float64\nBrand:  HGST\nMean:  smart_2_normalized       133.394602\nsmart_5_normalized        99.989610\nsmart_9_normalized        98.449835\nsmart_187_normalized    9999.000000\nsmart_188_normalized    9999.000000\nsmart_192_normalized      99.992914\nsmart_194_normalized     207.889445\nsmart_197_normalized      99.999789\nsmart_198_normalized     100.000000\ndtype: float64\nBrand:  Toshiba\nMean:  smart_2_normalized       107.420980\nsmart_5_normalized       100.000000\nsmart_9_normalized        84.059052\nsmart_187_normalized    9999.000000\nsmart_188_normalized    9999.000000\nsmart_192_normalized     100.000000\nsmart_194_normalized     126.449008\nsmart_197_normalized     100.000000\nsmart_198_normalized     100.000000\ndtype: float64\nBrand:  Samsung\nMean:  smart_2_normalized      9999.000000\nsmart_5_normalized       100.000000\nsmart_9_normalized        96.000000\nsmart_187_normalized     100.000000\nsmart_188_normalized     100.000000\nsmart_192_normalized    9999.000000\nsmart_194_normalized      81.833333\nsmart_197_normalized     100.000000\nsmart_198_normalized     100.000000\ndtype: float64\n",
          "name": "stdout"
        }
      ]
    },
    {
      "metadata": {
        "_uuid": "a334d9b16d4d1b0c98f2cb0101a44e6e9ad85c0c",
        "_cell_guid": "c7ba3ae8-189f-4c26-9aab-1db7009d3045",
        "trusted": true
      },
      "cell_type": "code",
      "source": "print(df_temp.isnull().sum())",
      "execution_count": 29,
      "outputs": [
        {
          "output_type": "stream",
          "text": "date                    0\nserial_number           0\nmodel                   0\nfailure                 0\ncapacity_bytes          0\nsmart_2_normalized      0\nsmart_5_normalized      0\nsmart_9_normalized      0\nsmart_187_normalized    0\nsmart_188_normalized    0\nsmart_192_normalized    0\nsmart_194_normalized    0\nsmart_197_normalized    0\nsmart_198_normalized    0\nBrands                  0\ndtype: int64\n",
          "name": "stdout"
        }
      ]
    },
    {
      "metadata": {
        "_uuid": "fbcf62b7fcc7cacd8b12bb8b5a3ddf2e183f2991",
        "collapsed": true,
        "_cell_guid": "2c86b9bc-9531-42b7-a3c2-e70d924ca795",
        "trusted": true
      },
      "cell_type": "code",
      "source": "from sklearn.ensemble import RandomForestClassifier",
      "execution_count": 30,
      "outputs": []
    },
    {
      "metadata": {
        "_uuid": "f4e711bc28069063db3f4edfbdad36203a6ca79f",
        "collapsed": true,
        "_cell_guid": "9166a93d-603e-4033-8dbd-5e61000d1e93",
        "trusted": true
      },
      "cell_type": "code",
      "source": "clf = RandomForestClassifier(random_state=22)",
      "execution_count": 31,
      "outputs": []
    },
    {
      "metadata": {
        "_uuid": "8108b2a1289375357017bf5e437d3446830f11d8",
        "collapsed": true,
        "_cell_guid": "c68fab39-72ec-40bb-b54c-7fba299a066a",
        "trusted": true
      },
      "cell_type": "code",
      "source": "from sklearn.model_selection import train_test_split",
      "execution_count": 32,
      "outputs": []
    },
    {
      "metadata": {
        "_uuid": "26dd40e508bdabf4d680771ef104e47db64ca43e",
        "collapsed": true,
        "_cell_guid": "6dc0e03a-f875-4e4e-9b37-6ef43ac93f3c",
        "trusted": true
      },
      "cell_type": "code",
      "source": "reg_cols = [ #\"capacity_bytes\", #\"failure\",\n                  \"smart_2_normalized\",# \"smart_2_raw\",\n                 \"smart_5_normalized\", #\"smart_5_raw\",\n                 \"smart_9_normalized\", #\"smart_9_raw\",\n                 \"smart_187_normalized\",# \"smart_187_raw\",\n                 \"smart_188_normalized\",# \"smart_188_raw\",\n                 \"smart_192_normalized\",# \"smart_192_raw\",\n                 \"smart_194_normalized\",# \"smart_194_raw\",\n                 \"smart_197_normalized\",# \"smart_197_raw\",\n                 \"smart_198_normalized\"\n]",
      "execution_count": 43,
      "outputs": []
    },
    {
      "metadata": {
        "_uuid": "05d26f655a1c908a067503323e6f59012c36df1c",
        "collapsed": true,
        "_cell_guid": "6b210a4d-38c9-4b59-89bf-8c8c0163fda9",
        "trusted": true
      },
      "cell_type": "code",
      "source": "X_train, X_test, y_train, y_test = train_test_split(df_temp[reg_cols], df['failure'], test_size=0.25, stratify=df['failure'])",
      "execution_count": 44,
      "outputs": []
    },
    {
      "metadata": {
        "_uuid": "b1ebcd4e214f7b41eee845679467efb778bbfc5f",
        "_cell_guid": "06680a73-b30d-41bd-86a0-2f7776150d6d",
        "trusted": true
      },
      "cell_type": "code",
      "source": "y_train.sum()",
      "execution_count": 45,
      "outputs": [
        {
          "output_type": "execute_result",
          "execution_count": 45,
          "data": {
            "text/plain": "161"
          },
          "metadata": {}
        }
      ]
    },
    {
      "metadata": {
        "_uuid": "93e25cc6bb7dc31f2ad7db40ac4c4778f0b9d9fe",
        "collapsed": true,
        "_cell_guid": "364cb771-6d33-4031-ae2f-2a472ba608d0",
        "trusted": true
      },
      "cell_type": "code",
      "source": "#df[label_cols] = df[label_cols].replace(\"NR\", np.nan)",
      "execution_count": 46,
      "outputs": []
    },
    {
      "metadata": {
        "_uuid": "4aeaddd4e40f84d63bce4b40159ea60520d0e256",
        "collapsed": true,
        "_cell_guid": "89f8451b-7a80-41c5-a0ed-3ad1d8f1ebb6",
        "trusted": true
      },
      "cell_type": "code",
      "source": "clf = clf.fit(X_train, y_train)",
      "execution_count": 47,
      "outputs": []
    },
    {
      "metadata": {
        "_uuid": "795457a242439e42a9e2c54fd068800ddfacf332",
        "collapsed": true,
        "_cell_guid": "b3fdca75-6201-4f4c-9703-0c9f10b82bd5",
        "trusted": true
      },
      "cell_type": "code",
      "source": "X_test_pred = clf.predict(X_test)",
      "execution_count": 48,
      "outputs": []
    },
    {
      "metadata": {
        "_uuid": "d6fc408b15bb2fa2d75030e242cd5fd906fde535",
        "_cell_guid": "48a8e0e4-9ed4-460c-9f9a-77d9bc661c11",
        "trusted": true
      },
      "cell_type": "code",
      "source": "X_test_pred",
      "execution_count": 49,
      "outputs": [
        {
          "output_type": "execute_result",
          "execution_count": 49,
          "data": {
            "text/plain": "array([0, 0, 0, ..., 0, 0, 0])"
          },
          "metadata": {}
        }
      ]
    },
    {
      "metadata": {
        "_uuid": "2812dc7814db4818c3b281b49d24773c29d48430",
        "collapsed": true,
        "_cell_guid": "52a3b838-f513-4b87-a100-9004430cbe3b",
        "trusted": true
      },
      "cell_type": "code",
      "source": "from sklearn import metrics",
      "execution_count": 50,
      "outputs": []
    },
    {
      "metadata": {
        "_uuid": "eaa72f7200903fcec30934469ca4c5b043d76016",
        "_cell_guid": "26d49a39-503c-4e17-a703-8a57bb016d13",
        "trusted": true
      },
      "cell_type": "code",
      "source": "print('logloss', metrics.log_loss(y_true=y_test, y_pred=X_test_pred))\nprint('roc_auc', metrics.roc_auc_score(y_true=y_test, y_score=X_test_pred))",
      "execution_count": 51,
      "outputs": [
        {
          "output_type": "stream",
          "text": "logloss 0.0023465536064785296\nroc_auc 0.5370345205857366\n",
          "name": "stdout"
        }
      ]
    },
    {
      "metadata": {
        "_uuid": "b2c76d496b70f4631e8fd47ab4abc6c9444632f5",
        "collapsed": true,
        "_cell_guid": "0a0d0888-6756-4d25-9998-ac946d8aa56f",
        "trusted": true
      },
      "cell_type": "code",
      "source": "from sklearn.metrics import classification_report,confusion_matrix",
      "execution_count": 52,
      "outputs": []
    },
    {
      "metadata": {
        "_uuid": "33d478f905d9f4c7fb38d49987f5e9909ca3ee61",
        "_cell_guid": "e9423c26-cbe9-4a3c-a3aa-9605a6d0dcf6",
        "trusted": true
      },
      "cell_type": "code",
      "source": "print(confusion_matrix(y_test,X_test_pred))",
      "execution_count": 53,
      "outputs": [
        {
          "output_type": "stream",
          "text": "[[794766      4]\n [    50      4]]\n",
          "name": "stdout"
        }
      ]
    },
    {
      "metadata": {
        "_uuid": "330a10353a6e8f4113da682ff652dedd8b64b932",
        "_cell_guid": "f3bc003f-15d2-4953-bc1a-0dd00e2b42a0",
        "trusted": true
      },
      "cell_type": "code",
      "source": "print(classification_report(y_test,X_test_pred))",
      "execution_count": 54,
      "outputs": [
        {
          "output_type": "stream",
          "text": "             precision    recall  f1-score   support\n\n          0       1.00      1.00      1.00    794770\n          1       0.50      0.07      0.13        54\n\navg / total       1.00      1.00      1.00    794824\n\n",
          "name": "stdout"
        }
      ]
    },
    {
      "metadata": {
        "_uuid": "63149534f326f4405bc699aeb53178cd337a508e",
        "collapsed": true,
        "_cell_guid": "31e90ee3-b4e9-46c9-b5ac-20f19b37c995",
        "trusted": true
      },
      "cell_type": "code",
      "source": "from sklearn.linear_model import LogisticRegression",
      "execution_count": 55,
      "outputs": []
    },
    {
      "metadata": {
        "_uuid": "70947a96fed75bf6fca67526ccb910195b3fe445",
        "collapsed": true,
        "_cell_guid": "4836986d-adfa-4ce5-8ae9-4781f76a3de0",
        "trusted": true
      },
      "cell_type": "code",
      "source": "clf_log = LogisticRegression()",
      "execution_count": 56,
      "outputs": []
    },
    {
      "metadata": {
        "_uuid": "83bc006470c59c447941004005d14383b571daa5",
        "_cell_guid": "b205cc6a-cead-4160-a97a-17d517ff0dea",
        "trusted": true,
        "collapsed": true
      },
      "cell_type": "code",
      "source": "clf_log = clf_log.fit(X_train, y_train)",
      "execution_count": 57,
      "outputs": []
    },
    {
      "metadata": {
        "_uuid": "e9bf5903bf6207d8a48c127ef18e29ee769b562f",
        "_cell_guid": "aa71a8d0-e833-4f0c-942c-6ad86e3383ea",
        "trusted": true
      },
      "cell_type": "code",
      "source": "X_log_pred = clf_log.predict(X_test)\nX_log_pred",
      "execution_count": 58,
      "outputs": [
        {
          "output_type": "execute_result",
          "execution_count": 58,
          "data": {
            "text/plain": "array([0, 0, 0, ..., 0, 0, 0])"
          },
          "metadata": {}
        }
      ]
    },
    {
      "metadata": {
        "_uuid": "890f039cd6e37891c89b8d6d6d590cfbb4d279be",
        "_cell_guid": "7700f705-7929-45e9-a7f9-b9adc24cd330",
        "trusted": true
      },
      "cell_type": "code",
      "source": "print('logloss', metrics.log_loss(y_true=y_test, y_pred=X_log_pred))\nprint('roc_auc', metrics.roc_auc_score(y_true=y_test, y_score=X_log_pred))",
      "execution_count": 59,
      "outputs": [
        {
          "output_type": "stream",
          "text": "logloss 0.0023465495824559527\nroc_auc 0.5\n",
          "name": "stdout"
        }
      ]
    },
    {
      "metadata": {
        "_uuid": "7d4b17ce8b23e642258eeb58b7899f00e3ee3f70",
        "collapsed": true,
        "_cell_guid": "ba13c8fb-1ba9-42ac-844f-794ab1f0f0cb",
        "trusted": false
      },
      "cell_type": "code",
      "source": "",
      "execution_count": null,
      "outputs": []
    }
  ],
  "metadata": {
    "language_info": {
      "name": "python",
      "version": "3.6.4",
      "mimetype": "text/x-python",
      "codemirror_mode": {
        "name": "ipython",
        "version": 3
      },
      "pygments_lexer": "ipython3",
      "nbconvert_exporter": "python",
      "file_extension": ".py"
    },
    "kernelspec": {
      "display_name": "Python 3",
      "language": "python",
      "name": "python3"
    }
  },
  "nbformat": 4,
  "nbformat_minor": 1
}